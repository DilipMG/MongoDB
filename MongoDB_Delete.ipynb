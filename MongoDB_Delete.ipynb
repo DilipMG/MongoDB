{
 "cells": [
  {
   "cell_type": "code",
   "execution_count": 1,
   "id": "d922698f",
   "metadata": {},
   "outputs": [],
   "source": [
    "#pip install pymongo\n",
    "\n",
    "#open Mongodb shell and get the ip address being present at top of the shell. "
   ]
  },
  {
   "cell_type": "code",
   "execution_count": 2,
   "id": "88a2a1b5",
   "metadata": {},
   "outputs": [],
   "source": [
    "# import pymongo and connect Mong client with the ipadress from the shell\n",
    "import pymongo\n",
    "mongo=pymongo.MongoClient(\"mongodb://127.0.0.1:27017/\")"
   ]
  },
  {
   "cell_type": "code",
   "execution_count": 3,
   "id": "b0ee6e40",
   "metadata": {},
   "outputs": [
    {
     "name": "stdout",
     "output_type": "stream",
     "text": [
      "['Database', 'admin', 'bank', 'config', 'dilip', 'guvi1', 'guvi44', 'library', 'local', 'task']\n"
     ]
    }
   ],
   "source": [
    "#execute the command mongo.list_database.names() to list all the existing databases present in Mongodb\n",
    "\n",
    "all_databases = mongo.list_database_names()\n",
    "print(all_databases)"
   ]
  },
  {
   "cell_type": "code",
   "execution_count": 4,
   "id": "8cabac64",
   "metadata": {},
   "outputs": [],
   "source": [
    "# Creating new \n",
    "mydb=mongo['dilip']\n",
    "mycollection=mydb['bank']"
   ]
  },
  {
   "cell_type": "code",
   "execution_count": 5,
   "id": "e196c50d",
   "metadata": {},
   "outputs": [
    {
     "name": "stdout",
     "output_type": "stream",
     "text": [
      "{'_id': ObjectId('63956bfd19011513ca16eff6'), 'name': 'Name1', 'accountType': 'Savings', 'salary': 60000, 'incometax': 5000, 'location': 'Mysuru'}\n",
      "{'_id': ObjectId('63956bfe19011513ca16eff7'), 'name': 'Name1', 'accountType': 'Savings', 'salary': 30000, 'incometax': 2000, 'location': 'Bengaluru'}\n",
      "{'_id': ObjectId('63956bfe19011513ca16eff8'), 'name': 'Name2', 'accountType': 'Savings', 'salary': 40000, 'incometax': 3000, 'location': 'Mysuru'}\n",
      "{'_id': ObjectId('63956bfe19011513ca16eff9'), 'name': 'Name3', 'accountType': 'Current', 'salary': 50000, 'incometax': 4000, 'location': 'Bengaluru'}\n",
      "{'_id': ObjectId('63956bfe19011513ca16effa'), 'name': 'Name4', 'accountType': 'Savings', 'salary': 60000, 'incometax': 5000, 'location': 'Mysuru'}\n"
     ]
    }
   ],
   "source": [
    "# displaying the records in 'bank' collection to view before deleting. \n",
    "data1 = mycollection.find()\n",
    "for data in data1:\n",
    "    print (data)"
   ]
  },
  {
   "cell_type": "markdown",
   "id": "0108b942",
   "metadata": {},
   "source": [
    "### Deleting the records from the collection. "
   ]
  },
  {
   "cell_type": "markdown",
   "id": "ee8ffa0b",
   "metadata": {},
   "source": [
    "##### Deleting single document"
   ]
  },
  {
   "cell_type": "code",
   "execution_count": 6,
   "id": "5bc73f77",
   "metadata": {},
   "outputs": [
    {
     "name": "stdout",
     "output_type": "stream",
     "text": [
      "Number of records deleted:  1\n",
      "---------------------------------------------------------------------------------------------------------------------\n",
      "\n",
      "{'_id': ObjectId('63956bfd19011513ca16eff6'), 'name': 'Name1', 'accountType': 'Savings', 'salary': 60000, 'incometax': 5000, 'location': 'Mysuru'}\n",
      "{'_id': ObjectId('63956bfe19011513ca16eff8'), 'name': 'Name2', 'accountType': 'Savings', 'salary': 40000, 'incometax': 3000, 'location': 'Mysuru'}\n",
      "{'_id': ObjectId('63956bfe19011513ca16eff9'), 'name': 'Name3', 'accountType': 'Current', 'salary': 50000, 'incometax': 4000, 'location': 'Bengaluru'}\n",
      "{'_id': ObjectId('63956bfe19011513ca16effa'), 'name': 'Name4', 'accountType': 'Savings', 'salary': 60000, 'incometax': 5000, 'location': 'Mysuru'}\n"
     ]
    }
   ],
   "source": [
    "query = {'salary':30000}\n",
    "\n",
    "data1 =mycollection.delete_one(query)   #deleting the document with salary=30000   \n",
    "\n",
    "# To know number of documents deleted.\n",
    "print(\"Number of records deleted: \",data1.deleted_count)\n",
    "print('---------------------------------------------------------------------------------------------------------------------\\n')\n",
    "\n",
    "# To display the records in collection after deleting document with salary=30000\n",
    "for data in mycollection.find():\n",
    "    print(data)"
   ]
  },
  {
   "cell_type": "markdown",
   "id": "7e0092b4",
   "metadata": {},
   "source": [
    "##### Deleting multiple documents"
   ]
  },
  {
   "cell_type": "code",
   "execution_count": 7,
   "id": "24de46da",
   "metadata": {},
   "outputs": [
    {
     "name": "stdout",
     "output_type": "stream",
     "text": [
      "Number of records deleted:  2\n",
      "---------------------------------------------------------------------------------------------------------------------\n",
      "\n",
      "{'_id': ObjectId('63956bfe19011513ca16eff8'), 'name': 'Name2', 'accountType': 'Savings', 'salary': 40000, 'incometax': 3000, 'location': 'Mysuru'}\n",
      "{'_id': ObjectId('63956bfe19011513ca16eff9'), 'name': 'Name3', 'accountType': 'Current', 'salary': 50000, 'incometax': 4000, 'location': 'Bengaluru'}\n"
     ]
    }
   ],
   "source": [
    "query = {'salary':60000}\n",
    "\n",
    "data2 =mycollection.delete_many(query)   #deleting the document with salary=30000  \n",
    "\n",
    "# To know number of documents deleted.\n",
    "print(\"Number of records deleted: \",data2.deleted_count)\n",
    "print('---------------------------------------------------------------------------------------------------------------------\\n')\n",
    "\n",
    "# To display the records in collection after deleting document with salary=30000\n",
    "for data in mycollection.find():\n",
    "    print(data)"
   ]
  }
 ],
 "metadata": {
  "kernelspec": {
   "display_name": "Python 3 (ipykernel)",
   "language": "python",
   "name": "python3"
  },
  "language_info": {
   "codemirror_mode": {
    "name": "ipython",
    "version": 3
   },
   "file_extension": ".py",
   "mimetype": "text/x-python",
   "name": "python",
   "nbconvert_exporter": "python",
   "pygments_lexer": "ipython3",
   "version": "3.9.13"
  }
 },
 "nbformat": 4,
 "nbformat_minor": 5
}

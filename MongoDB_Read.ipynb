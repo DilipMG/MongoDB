{
 "cells": [
  {
   "cell_type": "code",
   "execution_count": 1,
   "metadata": {},
   "outputs": [],
   "source": [
    "#pip install pymongo\n",
    "\n",
    "\n",
    "#open Mongodb shell and get the ip address being present at top of the shell. "
   ]
  },
  {
   "cell_type": "code",
   "execution_count": 2,
   "metadata": {},
   "outputs": [],
   "source": [
    "# import pymongo and connect Mong client with the ipadress from the shell\n",
    "import pymongo\n",
    "mongo=pymongo.MongoClient(\"mongodb://127.0.0.1:27017/\")"
   ]
  },
  {
   "cell_type": "code",
   "execution_count": 3,
   "metadata": {},
   "outputs": [
    {
     "name": "stdout",
     "output_type": "stream",
     "text": [
      "['Database', 'admin', 'bank', 'config', 'dilip', 'guvi1', 'guvi44', 'library', 'local', 'task']\n"
     ]
    }
   ],
   "source": [
    "#execute the command mongo.list_database.names() to list all the existing databases present in Mongodb\n",
    "\n",
    "all_databases = mongo.list_database_names()\n",
    "print(all_databases)"
   ]
  },
  {
   "cell_type": "markdown",
   "metadata": {},
   "source": [
    "# Reading"
   ]
  },
  {
   "cell_type": "code",
   "execution_count": 4,
   "metadata": {},
   "outputs": [],
   "source": [
    "#set the database and collection to read\n",
    "\n",
    "mydb=mongo['dilip']\n",
    "bankcollection=mydb['bank']"
   ]
  },
  {
   "cell_type": "code",
   "execution_count": 5,
   "metadata": {},
   "outputs": [
    {
     "name": "stdout",
     "output_type": "stream",
     "text": [
      "{'_id': ObjectId('632ee090971bca0b00762931'), 'name': 'Name1', 'accountType': 'Savings', 'salary': 60000, 'incometax': 5000, 'location': 'Mysuru'}\n"
     ]
    }
   ],
   "source": [
    "# find_one() is used to read  the first document entry from the collection\n",
    "\n",
    "data = bankcollection.find_one()\n",
    "print(data)"
   ]
  },
  {
   "cell_type": "code",
   "execution_count": 6,
   "metadata": {},
   "outputs": [
    {
     "name": "stdout",
     "output_type": "stream",
     "text": [
      "{'name': 'Name1', 'accountType': 'Savings', 'location': 'Mysuru'}\n"
     ]
    }
   ],
   "source": [
    "#specific_data=mycollection.find_one({},{hiding fields(0)/show fields(1)})\n",
    "\n",
    "specific_data=bankcollection.find_one({},{'_id':0,'name':1,'accountType':1,'location':1})\n",
    "print(specific_data)"
   ]
  },
  {
   "cell_type": "code",
   "execution_count": 7,
   "metadata": {},
   "outputs": [
    {
     "name": "stdout",
     "output_type": "stream",
     "text": [
      "{'_id': ObjectId('632ee090971bca0b00762931'), 'name': 'Name1', 'accountType': 'Savings', 'salary': 60000, 'incometax': 5000, 'location': 'Mysuru'}\n",
      "{'_id': ObjectId('632ee093971bca0b00762932'), 'name': 'Name1', 'accountType': 'Savings', 'salary': 30000, 'incometax': 2000, 'location': 'Bengaluru'}\n",
      "{'_id': ObjectId('632ee093971bca0b00762933'), 'name': 'Name2', 'accountType': 'Savings', 'salary': 40000, 'incometax': 3000, 'location': 'Mysuru'}\n",
      "{'_id': ObjectId('632ee093971bca0b00762934'), 'name': 'Name3', 'accountType': 'Current', 'salary': 50000, 'incometax': 4000, 'location': 'Bengaluru'}\n",
      "{'_id': ObjectId('632ee093971bca0b00762935'), 'name': 'Name4', 'accountType': 'Savings', 'salary': 60000, 'incometax': 5000, 'location': 'Mysuru'}\n",
      "{'_id': ObjectId('632ee75699df7b45728fb1df'), 'name': 'Name1', 'accountType': 'Savings', 'salary': 60000, 'incometax': 5000, 'location': 'Mysuru'}\n",
      "{'_id': ObjectId('632ee75899df7b45728fb1e0'), 'name': 'Name1', 'accountType': 'Savings', 'salary': 30000, 'incometax': 2000, 'location': 'Bengaluru'}\n",
      "{'_id': ObjectId('632ee75899df7b45728fb1e1'), 'name': 'Name2', 'accountType': 'Savings', 'salary': 40000, 'incometax': 3000, 'location': 'Mysuru'}\n",
      "{'_id': ObjectId('632ee75899df7b45728fb1e2'), 'name': 'Name3', 'accountType': 'Current', 'salary': 50000, 'incometax': 4000, 'location': 'Bengaluru'}\n",
      "{'_id': ObjectId('632ee75899df7b45728fb1e3'), 'name': 'Name4', 'accountType': 'Savings', 'salary': 60000, 'incometax': 5000, 'location': 'Mysuru'}\n"
     ]
    }
   ],
   "source": [
    "# find() is used to read all the documents entries from collection\n",
    "\n",
    "data1 =bankcollection.find()\n",
    "for dat in data1:\n",
    "    print(dat)"
   ]
  },
  {
   "cell_type": "code",
   "execution_count": 8,
   "metadata": {},
   "outputs": [
    {
     "name": "stdout",
     "output_type": "stream",
     "text": [
      "{'name': 'Name1', 'accountType': 'Savings', 'location': 'Mysuru'}\n",
      "{'name': 'Name1', 'accountType': 'Savings', 'location': 'Bengaluru'}\n",
      "{'name': 'Name2', 'accountType': 'Savings', 'location': 'Mysuru'}\n",
      "{'name': 'Name3', 'accountType': 'Current', 'location': 'Bengaluru'}\n",
      "{'name': 'Name4', 'accountType': 'Savings', 'location': 'Mysuru'}\n",
      "{'name': 'Name1', 'accountType': 'Savings', 'location': 'Mysuru'}\n",
      "{'name': 'Name1', 'accountType': 'Savings', 'location': 'Bengaluru'}\n",
      "{'name': 'Name2', 'accountType': 'Savings', 'location': 'Mysuru'}\n",
      "{'name': 'Name3', 'accountType': 'Current', 'location': 'Bengaluru'}\n",
      "{'name': 'Name4', 'accountType': 'Savings', 'location': 'Mysuru'}\n"
     ]
    }
   ],
   "source": [
    "#specific_data=mycollection.find_one({},{hiding fields(0)/show fields(1)})\n",
    "\n",
    "data1 =bankcollection.find({},{'_id':0,'name':1,'accountType':1,'location':1})\n",
    "for dat in data1:\n",
    "    print(dat)"
   ]
  },
  {
   "cell_type": "code",
   "execution_count": null,
   "metadata": {},
   "outputs": [],
   "source": []
  }
 ],
 "metadata": {
  "kernelspec": {
   "display_name": "Python 3 (ipykernel)",
   "language": "python",
   "name": "python3"
  },
  "language_info": {
   "codemirror_mode": {
    "name": "ipython",
    "version": 3
   },
   "file_extension": ".py",
   "mimetype": "text/x-python",
   "name": "python",
   "nbconvert_exporter": "python",
   "pygments_lexer": "ipython3",
   "version": "3.9.13"
  }
 },
 "nbformat": 4,
 "nbformat_minor": 2
}

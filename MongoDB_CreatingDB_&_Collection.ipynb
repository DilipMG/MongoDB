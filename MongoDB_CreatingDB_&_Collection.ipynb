{
 "cells": [
  {
   "cell_type": "code",
   "execution_count": 1,
   "id": "dad2845b",
   "metadata": {},
   "outputs": [],
   "source": [
    "#pip install pymongo\n",
    "#open Mongodb shell and get the ip address being present at top of the shell. "
   ]
  },
  {
   "cell_type": "code",
   "execution_count": 2,
   "id": "ca99297f",
   "metadata": {},
   "outputs": [],
   "source": [
    "# import pymongo and connect Mong client with the ipadress from the shell\n",
    "import pymongo\n",
    "mongo=pymongo.MongoClient(\"mongodb://127.0.0.1:27017/\")"
   ]
  },
  {
   "cell_type": "code",
   "execution_count": 3,
   "id": "949bc399",
   "metadata": {},
   "outputs": [
    {
     "name": "stdout",
     "output_type": "stream",
     "text": [
      "['Database', 'admin', 'bank', 'config', 'dilip', 'guvi1', 'guvi44', 'library', 'local', 'task']\n"
     ]
    }
   ],
   "source": [
    "#execute the command mongo.list_database.names() to list all the existing databases present in Mongodb\n",
    "all_databases = mongo.list_database_names()\n",
    "print(all_databases)"
   ]
  },
  {
   "cell_type": "code",
   "execution_count": 4,
   "id": "918b7cc5",
   "metadata": {},
   "outputs": [],
   "source": [
    "# Creating new database as'dilip' and collection as 'bank'\n",
    "mydb=mongo['dilip']\n",
    "bankcollection=mydb['bank']\n",
    "#bankcollection.drop()"
   ]
  },
  {
   "cell_type": "markdown",
   "id": "f9e3f1e6",
   "metadata": {},
   "source": [
    "### Inserting the data into db i.e., creating the collection"
   ]
  },
  {
   "cell_type": "markdown",
   "id": "75552f09",
   "metadata": {},
   "source": [
    "##### Inserting single collection using insert_one()"
   ]
  },
  {
   "cell_type": "code",
   "execution_count": 5,
   "id": "85f1f19e",
   "metadata": {},
   "outputs": [
    {
     "name": "stdout",
     "output_type": "stream",
     "text": [
      "639562f52fa55b1a9902f68b\n"
     ]
    }
   ],
   "source": [
    "bankdata={'name':'Name1','accountType':'Savings','salary':60000,'incometax':5000,'location':'Mysuru'}\n",
    "doc_id = bankcollection.insert_one(bankdata)\n",
    "\n",
    "#To display the insert record's doc id\n",
    "print(doc_id.inserted_id)"
   ]
  },
  {
   "cell_type": "markdown",
   "id": "1cddd192",
   "metadata": {},
   "source": [
    "##### inserting set of collections using insert_many()"
   ]
  },
  {
   "cell_type": "code",
   "execution_count": 6,
   "id": "c254d29c",
   "metadata": {},
   "outputs": [
    {
     "name": "stdout",
     "output_type": "stream",
     "text": [
      "[ObjectId('639562f52fa55b1a9902f68c'), ObjectId('639562f52fa55b1a9902f68d'), ObjectId('639562f52fa55b1a9902f68e'), ObjectId('639562f52fa55b1a9902f68f')]\n"
     ]
    }
   ],
   "source": [
    "listOfDict=[\n",
    " {'name':'Name1','accountType':'Savings','salary':30000,'incometax':2000,'location':'Bengaluru'},\n",
    " {'name':'Name2','accountType':'Savings','salary':40000,'incometax':3000,'location':'Mysuru'},\n",
    " {'name':'Name3','accountType':'Current','salary':50000,'incometax':4000,'location':'Bengaluru'},\n",
    " {'name':'Name4','accountType':'Savings','salary':60000,'incometax':5000,'location':'Mysuru'},]\n",
    "doc_id = bankcollection.insert_many(listOfDict)\n",
    "\n",
    "#To display the inserted records' doc ids\n",
    "print(doc_id.inserted_ids)"
   ]
  },
  {
   "cell_type": "code",
   "execution_count": null,
   "id": "90c24330",
   "metadata": {},
   "outputs": [],
   "source": []
  }
 ],
 "metadata": {
  "kernelspec": {
   "display_name": "Python 3 (ipykernel)",
   "language": "python",
   "name": "python3"
  },
  "language_info": {
   "codemirror_mode": {
    "name": "ipython",
    "version": 3
   },
   "file_extension": ".py",
   "mimetype": "text/x-python",
   "name": "python",
   "nbconvert_exporter": "python",
   "pygments_lexer": "ipython3",
   "version": "3.9.13"
  }
 },
 "nbformat": 4,
 "nbformat_minor": 5
}

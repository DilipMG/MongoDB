{
 "cells": [
  {
   "cell_type": "code",
   "execution_count": 1,
   "id": "ef170d72",
   "metadata": {},
   "outputs": [],
   "source": [
    "# import pymongo and connect Mong client with the ipadress from the shell\n",
    "import pymongo\n",
    "mongo=pymongo.MongoClient(\"mongodb://127.0.0.1:27017/\")\n",
    "# Creating new collection\n",
    "mydb=mongo['guvi1']\n",
    "mycollection=mydb['collection1']\n",
    "mycollection.drop()\n",
    "\n",
    "#Inserting some documents to the collection. \n",
    "listOfDict=[{'_id': 12345, 'Book_Title': 'Harry Potter V1.1', 'Author_Name': 'Rowling', 'issue_date': '2022-10-01', 'renew_date': '2022-10-31', 'assigned_to': None, 'penalty': 0},\n",
    "            {'_id': 12346, 'Book_Title': 'Nityotsava', 'Author_Name': 'Nissar Ahmed', 'issue_date': '2022-10-03', 'renew_date': '2022-10-18', 'assigned_to':  None, 'penalty': 220},\n",
    "            {'_id': 12347, 'Book_Title': 'The Names', 'Author_Name': 'Don Delillo', 'issue_date': '2022-10-05', 'renew_date': '2022-11-04', 'assigned_to':  1234567890, 'penalty': 0},\n",
    "            {'_id': 12348, 'Book_Title': 'Malegaaladalli MadhumagaLu', 'Author_Name': 'Kuvempu', 'issue_date': '2022-10-19', 'renew_date': '2022-11-03', 'assigned_to':  None, 'penalty': 0},\n",
    "            {'_id': 12349, 'Book_Title': 'Three Thousand Stitches', 'Author_Name': 'Sudha Murthy', 'issue_date': '2022-10-01', 'renew_date': '2022-10-16', 'assigned_to': None, 'penalty': 260},\n",
    "            {'_id': 12350, 'Book_Title': 'How the Sea became Salty', 'Author_Name': 'Sudha Murthy', 'issue_date': '2022-10-01', 'renew_date': '2022-10-16', 'assigned_to': 1234567890, 'penalty': 260},\n",
    "            {'_id': 12351, 'Book_Title': 'Ramayana Darshanam', 'Author_Name': 'Kuvempu', 'issue_date': '2022-09-15', 'renew_date': '2022-09-30', 'assigned_to': 1234567890, 'penalty': 580},\n",
    "            {'_id': 12352, 'Book_Title': 'Nenapina doNiyali', 'Author_Name': 'Kuvempu', 'issue_date': '2022-10-02', 'renew_date': '2022-10-17', 'assigned_to': 1234567890, 'penalty': 240}]\n",
    "doc_id = mycollection.insert_many(listOfDict)"
   ]
  },
  {
   "cell_type": "code",
   "execution_count": 2,
   "id": "c36b9308",
   "metadata": {},
   "outputs": [
    {
     "data": {
      "text/plain": [
       "{'_id': 12352,\n",
       " 'Book_Title': 'Python Fundamentals',\n",
       " 'Author_Name': 'Kuvempu',\n",
       " 'issue_date': '2022-10-02',\n",
       " 'renew_date': '2022-10-17',\n",
       " 'assigned_to': 1234567890,\n",
       " 'penalty': 240}"
      ]
     },
     "execution_count": 2,
     "metadata": {},
     "output_type": "execute_result"
    }
   ],
   "source": [
    "#  Updating the Book Title for _id = 12352 using update_one and set\n",
    "\n",
    "query={'_id':12352}                                           # Selection query\n",
    "new_value={'$set':{'Book_Title':'Python Fundamentals'}}       # New value to update\n",
    " \n",
    "mycollection.update_one(query,new_value)       #<====== Update_one to update one document\n",
    "\n",
    "# Displaying the document to see updated value\n",
    "mycollection.find_one({'_id':12352},{})"
   ]
  },
  {
   "cell_type": "code",
   "execution_count": 3,
   "id": "65934530",
   "metadata": {},
   "outputs": [
    {
     "name": "stdout",
     "output_type": "stream",
     "text": [
      "{'Book_Title': 'Harry Potter V1.1', 'Author_Name': 'Rowling', 'penalty': 0, 'book_price': 300}\n",
      "{'Book_Title': 'Nityotsava', 'Author_Name': 'Nissar Ahmed', 'penalty': 220, 'book_price': 300}\n",
      "{'Book_Title': 'The Names', 'Author_Name': 'Don Delillo', 'penalty': 0, 'book_price': 300}\n",
      "{'Book_Title': 'Malegaaladalli MadhumagaLu', 'Author_Name': 'Kuvempu', 'penalty': 0, 'book_price': 300}\n",
      "{'Book_Title': 'Three Thousand Stitches', 'Author_Name': 'Sudha Murthy', 'penalty': 260, 'book_price': 300}\n",
      "{'Book_Title': 'How the Sea became Salty', 'Author_Name': 'Sudha Murthy', 'penalty': 260, 'book_price': 300}\n",
      "{'Book_Title': 'Ramayana Darshanam', 'Author_Name': 'Kuvempu', 'penalty': 580, 'book_price': 300}\n",
      "{'Book_Title': 'Python Fundamentals', 'Author_Name': 'Kuvempu', 'penalty': 240, 'book_price': 300}\n"
     ]
    }
   ],
   "source": [
    "#Updating the launch_place as Bengaluru for all Books using \"update_many\" and set\n",
    "\n",
    "query={}\n",
    "new_value={'$set':{'book_price':300}}      # Since 'book_price' is not in documents, so it will be added\n",
    "\n",
    "mycollection.update_many(query,new_value)  #<====== Update_many to update all documents matching query\n",
    "\n",
    "# Displaying the documents to see updated value\n",
    "for data in mycollection.find({},{'_id':0,'Book_Title':1, 'Author_Name':1,'book_price':1,'penalty':1}):\n",
    "    print(data)"
   ]
  },
  {
   "cell_type": "code",
   "execution_count": 4,
   "id": "bd8dee31",
   "metadata": {},
   "outputs": [
    {
     "name": "stdout",
     "output_type": "stream",
     "text": [
      "{'Book_Title': 'Harry Potter V1.1', 'lastModified': datetime.datetime(2022, 11, 12, 12, 25, 24, 732000)}\n",
      "{'Book_Title': 'Nityotsava', 'lastModified': datetime.datetime(2022, 11, 12, 12, 25, 24, 732000)}\n",
      "{'Book_Title': 'The Names', 'lastModified': datetime.datetime(2022, 11, 12, 12, 25, 24, 732000)}\n",
      "{'Book_Title': 'Malegaaladalli MadhumagaLu', 'lastModified': datetime.datetime(2022, 11, 12, 12, 25, 24, 732000)}\n",
      "{'Book_Title': 'Three Thousand Stitches', 'lastModified': datetime.datetime(2022, 11, 12, 12, 25, 24, 732000)}\n",
      "{'Book_Title': 'How the Sea became Salty', 'lastModified': datetime.datetime(2022, 11, 12, 12, 25, 24, 732000)}\n",
      "{'Book_Title': 'Ramayana Darshanam', 'lastModified': datetime.datetime(2022, 11, 12, 12, 25, 24, 732000)}\n",
      "{'Book_Title': 'Python Fundamentals', 'lastModified': datetime.datetime(2022, 11, 12, 12, 25, 24, 732000)}\n"
     ]
    }
   ],
   "source": [
    "#Updating the current date for all documents using currentDate\n",
    "\n",
    "query={}\n",
    "new_value={'$currentDate':{'lastModified':True}}\n",
    "\n",
    "mycollection.update_many(query,new_value) #<====== Update_many to update all documents matching query\n",
    "\n",
    "# Displaying the document to see updated value\n",
    "for data in mycollection.find({},{'_id':0,'Book_Title':1, 'lastModified':1}):\n",
    "    print(data)"
   ]
  },
  {
   "cell_type": "code",
   "execution_count": 5,
   "id": "29560fff",
   "metadata": {},
   "outputs": [
    {
     "name": "stdout",
     "output_type": "stream",
     "text": [
      "{'Book_Title': 'Harry Potter V1.1', 'assigned_to': None}\n",
      "{'Book_Title': 'Nityotsava', 'assigned_to': None}\n",
      "{'Book_Title': 'The Names', 'assigned_to': 1234567890}\n",
      "{'Book_Title': 'Malegaaladalli MadhumagaLu', 'assigned_to': None}\n",
      "{'Book_Title': 'Three Thousand Stitches', 'assigned_to': None}\n",
      "{'Book_Title': 'How the Sea became Salty', 'assigned_to': 1234567890}\n",
      "{'Book_Title': 'Ramayana Darshanam', 'assigned_to': 1234567890}\n",
      "{'Book_Title': 'Python Fundamentals', 'assigned_to': 1234567890}\n"
     ]
    }
   ],
   "source": [
    "# To remove paricular key in document (\"penalty\"), unset is used. \n",
    "\n",
    "query={}\n",
    "new_value={'$unset':{'penalty':True}}      \n",
    "\n",
    "mycollection.update_many(query,new_value) #<====== Update_many to update all documents matching query\n",
    "\n",
    "# Displaying the document to see updated value. We can see Penalty would be deleted. \n",
    "for data in mycollection.find({},{'Book_Title':1,'penalty':1,'assigned_to':1,'_id':0}):\n",
    "    print(data)"
   ]
  },
  {
   "cell_type": "code",
   "execution_count": 6,
   "id": "99e300ab",
   "metadata": {},
   "outputs": [
    {
     "name": "stdout",
     "output_type": "stream",
     "text": [
      "{'_id': 12345, 'Book_Title': 'Harry Potter V1.1', 'Author_Name': 'Rowling', 'assigned_to': 9999999999}\n",
      "{'_id': 12346, 'Book_Title': 'Nityotsava', 'Author_Name': 'Nissar Ahmed', 'assigned_to': 9999999999}\n",
      "{'_id': 12347, 'Book_Title': 'The Names', 'Author_Name': 'Don Delillo', 'assigned_to': 1234567890}\n",
      "{'_id': 12348, 'Book_Title': 'Malegaaladalli MadhumagaLu', 'Author_Name': 'Kuvempu', 'assigned_to': 9999999999}\n",
      "{'_id': 12349, 'Book_Title': 'Three Thousand Stitches', 'Author_Name': 'Sudha Murthy', 'assigned_to': 9999999999}\n",
      "{'_id': 12350, 'Book_Title': 'How the Sea became Salty', 'Author_Name': 'Sudha Murthy', 'assigned_to': 1234567890}\n",
      "{'_id': 12351, 'Book_Title': 'Ramayana Darshanam', 'Author_Name': 'Kuvempu', 'assigned_to': 1234567890}\n",
      "{'_id': 12352, 'Book_Title': 'Python Fundamentals', 'Author_Name': 'Kuvempu', 'assigned_to': 1234567890}\n"
     ]
    }
   ],
   "source": [
    "# Updating document by document inside find(). \n",
    "# for each document, if the assigned_to is None then value 9999999999 is updated\n",
    "\n",
    "for data in mycollection.find():         \n",
    "    if data['assigned_to']==None:         \n",
    "        mycollection.update_one({'_id':data['_id']},{'$set':{'assigned_to':9999999999}})  #<====== Update_one to update one document\n",
    "\n",
    "# Displaying the document to see updated value\n",
    "for data in mycollection.find({},{'Book_Title':1,'Author_Name':1,'assigned_to':1}):\n",
    "    print(data)"
   ]
  },
  {
   "cell_type": "code",
   "execution_count": 7,
   "id": "060f056b",
   "metadata": {},
   "outputs": [
    {
     "name": "stdout",
     "output_type": "stream",
     "text": [
      "{'_id': 12345, 'Book_Title': 'Harry Potter V1.1', 'Author_Name': 'Rowling', 'book_price': 300}\n",
      "{'_id': 12346, 'Book_Title': 'Nityotsava', 'Author_Name': 'Nissar Ahmed', 'book_price': 300}\n",
      "{'_id': 12347, 'Book_Title': 'The Names', 'Author_Name': 'Don Delillo', 'book_price': 300}\n",
      "{'_id': 12348, 'Book_Title': 'Malegaaladalli MadhumagaLu', 'Author_Name': 'Kuvempu', 'book_price': 300}\n",
      "{'_id': 12349, 'Book_Title': 'Three Thousand Stitches', 'Author_Name': 'Sudha Murthy', 'book_price': 400}\n",
      "{'_id': 12350, 'Book_Title': 'How the Sea became Salty', 'Author_Name': 'Sudha Murthy', 'book_price': 400}\n",
      "{'_id': 12351, 'Book_Title': 'Ramayana Darshanam', 'Author_Name': 'Kuvempu', 'book_price': 300}\n",
      "{'_id': 12352, 'Book_Title': 'Python Fundamentals', 'Author_Name': 'Kuvempu', 'book_price': 300}\n"
     ]
    }
   ],
   "source": [
    "#Incrementing Sudha Murthy author's books value by 100 Rs. \n",
    "\n",
    "query={'Author_Name': 'Sudha Murthy'}\n",
    "new_value={'$inc':{'book_price':+100}}\n",
    "\n",
    "mycollection.update_many(query,new_value) #<====== Update_many to update all documents matching query\n",
    "\n",
    "# Displaying the document to see updated value\n",
    "for data in mycollection.find({},{'Book_Title':1,'Author_Name':1,'book_price':1}):\n",
    "    print(data)"
   ]
  },
  {
   "cell_type": "code",
   "execution_count": 8,
   "id": "a9375a37",
   "metadata": {},
   "outputs": [
    {
     "name": "stdout",
     "output_type": "stream",
     "text": [
      "{'_id': 12345, 'Book_Title': 'Harry Potter V1.1', 'Author_Name': 'Rowling', 'book_price': 200}\n",
      "{'_id': 12346, 'Book_Title': 'Nityotsava', 'Author_Name': 'Nissar Ahmed', 'book_price': 300}\n",
      "{'_id': 12347, 'Book_Title': 'The Names', 'Author_Name': 'Don Delillo', 'book_price': 300}\n",
      "{'_id': 12348, 'Book_Title': 'Malegaaladalli MadhumagaLu', 'Author_Name': 'Kuvempu', 'book_price': 300}\n",
      "{'_id': 12349, 'Book_Title': 'Three Thousand Stitches', 'Author_Name': 'Sudha Murthy', 'book_price': 400}\n",
      "{'_id': 12350, 'Book_Title': 'How the Sea became Salty', 'Author_Name': 'Sudha Murthy', 'book_price': 400}\n",
      "{'_id': 12351, 'Book_Title': 'Ramayana Darshanam', 'Author_Name': 'Kuvempu', 'book_price': 300}\n",
      "{'_id': 12352, 'Book_Title': 'Python Fundamentals', 'Author_Name': 'Kuvempu', 'book_price': 300}\n"
     ]
    }
   ],
   "source": [
    "#Decrementing Harry Potter book price by 100.  \n",
    "\n",
    "query={'Book_Title': 'Harry Potter V1.1'}\n",
    "new_value={'$inc':{'book_price':-100}}\n",
    "\n",
    "mycollection.update_one(query,new_value) #<====== Update_one to update one document\n",
    "\n",
    "# Displaying the document to see updated value\n",
    "for data in mycollection.find({},{'Book_Title':1,'Author_Name':1,'book_price':1}):\n",
    "    print(data)"
   ]
  },
  {
   "cell_type": "code",
   "execution_count": 9,
   "id": "ca43d75e",
   "metadata": {},
   "outputs": [
    {
     "name": "stdout",
     "output_type": "stream",
     "text": [
      "{'_id': 12345, 'Book_Title': 'Harry Potter V1.1', 'Author_Name': 'Rowling', 'book_price': 250.0}\n",
      "{'_id': 12346, 'Book_Title': 'Nityotsava', 'Author_Name': 'Nissar Ahmed', 'book_price': 375.0}\n",
      "{'_id': 12347, 'Book_Title': 'The Names', 'Author_Name': 'Don Delillo', 'book_price': 375.0}\n",
      "{'_id': 12348, 'Book_Title': 'Malegaaladalli MadhumagaLu', 'Author_Name': 'Kuvempu', 'book_price': 375.0}\n",
      "{'_id': 12349, 'Book_Title': 'Three Thousand Stitches', 'Author_Name': 'Sudha Murthy', 'book_price': 500.0}\n",
      "{'_id': 12350, 'Book_Title': 'How the Sea became Salty', 'Author_Name': 'Sudha Murthy', 'book_price': 500.0}\n",
      "{'_id': 12351, 'Book_Title': 'Ramayana Darshanam', 'Author_Name': 'Kuvempu', 'book_price': 375.0}\n",
      "{'_id': 12352, 'Book_Title': 'Python Fundamentals', 'Author_Name': 'Kuvempu', 'book_price': 375.0}\n"
     ]
    }
   ],
   "source": [
    "# Increasing book prices by 25% \n",
    "\n",
    "query={}\n",
    "new_value={'$mul':{'book_price':1.25}}      \n",
    " \n",
    "mycollection.update_many(query,new_value) #<====== Update_many to update all documents matching query\n",
    "\n",
    "# Displaying the document to see updated value\n",
    "for data in mycollection.find({},{'Book_Title':1,'Author_Name':1,'book_price':1}):\n",
    "    print(data)"
   ]
  },
  {
   "cell_type": "code",
   "execution_count": 10,
   "id": "71da65d7",
   "metadata": {},
   "outputs": [
    {
     "name": "stdout",
     "output_type": "stream",
     "text": [
      "{'_id': 12345, 'Book_Title': 'Harry Potter V1.1', 'Author_Name': 'Rowling', 'book_cost': 250.0}\n",
      "{'_id': 12346, 'Book_Title': 'Nityotsava', 'Author_Name': 'Nissar Ahmed', 'book_cost': 375.0}\n",
      "{'_id': 12347, 'Book_Title': 'The Names', 'Author_Name': 'Don Delillo', 'book_cost': 375.0}\n",
      "{'_id': 12348, 'Book_Title': 'Malegaaladalli MadhumagaLu', 'Author_Name': 'Kuvempu', 'book_cost': 375.0}\n",
      "{'_id': 12349, 'Book_Title': 'Three Thousand Stitches', 'Author_Name': 'Sudha Murthy', 'book_cost': 500.0}\n",
      "{'_id': 12350, 'Book_Title': 'How the Sea became Salty', 'Author_Name': 'Sudha Murthy', 'book_cost': 500.0}\n",
      "{'_id': 12351, 'Book_Title': 'Ramayana Darshanam', 'Author_Name': 'Kuvempu', 'book_cost': 375.0}\n",
      "{'_id': 12352, 'Book_Title': 'Python Fundamentals', 'Author_Name': 'Kuvempu', 'book_cost': 375.0}\n"
     ]
    }
   ],
   "source": [
    "# Renaming the book_price key to 'book_cost'\n",
    "\n",
    "query={}\n",
    "new_value={'$rename':{'book_price':'book_cost'}}      \n",
    "\n",
    "mycollection.update_many(query,new_value) #<====== Update_many to update all documents matching query\n",
    "\n",
    "# Displaying the document to see updated value\n",
    "for data in mycollection.find({},{'Book_Title':1,'Author_Name':1,'book_cost':1}):\n",
    "    print(data)"
   ]
  }
 ],
 "metadata": {
  "kernelspec": {
   "display_name": "Python 3 (ipykernel)",
   "language": "python",
   "name": "python3"
  },
  "language_info": {
   "codemirror_mode": {
    "name": "ipython",
    "version": 3
   },
   "file_extension": ".py",
   "mimetype": "text/x-python",
   "name": "python",
   "nbconvert_exporter": "python",
   "pygments_lexer": "ipython3",
   "version": "3.9.13"
  }
 },
 "nbformat": 4,
 "nbformat_minor": 5
}
